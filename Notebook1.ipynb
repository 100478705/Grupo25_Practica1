{
 "cells": [
  {
   "cell_type": "markdown",
   "metadata": {
    "id": "ZFONncXU4QX3"
   },
   "source": [
    "Rodrigo García Salado\n",
    "# Proceso EDA\n",
    "---\n",
    "1. Cargar los datos como un Pandas dataframe\n",
    "\n",
    "2. LLevar a cabo un proceso EDA (Exploratory Data Analysis) para entender/comprender sus datos. Y esto significa:\n",
    "  - Cuántas instancias y atributos hay\n",
    "  - Qué tipo de atributos hay (numéricos o categóricos). Esto se hace para comprobar si hay características categóricas que deban ser codificadas (como dummies / one-hot-encoding)\n",
    "  - Qué atributos tienen valores faltantes, y cuántos\n",
    "  - Si se trata de un problema de clasificación o de regresión (variable de salida es una clase o un valor continuo), y en caso de clasificación, si la clase está desequilibrada.\n",
    "\n",
    "3. Codificar el Pandas dataframe como una matriz numpy (transformar los valores categóricos y los valores faltantes)\n",
    "\n",
    "4. Diseñar modelos de aprendizaje automático con scikit-learn"
   ]
  },
  {
   "cell_type": "code",
   "execution_count": 59,
   "metadata": {},
   "outputs": [],
   "source": [
    "#imports\n",
    "from sklearn.model_selection import train_test_split\n",
    "from sklearn.model_selection import StratifiedKFold, cross_val_score\n",
    "from sklearn.pipeline import Pipeline\n",
    "from sklearn.compose import ColumnTransformer\n",
    "from sklearn.preprocessing import StandardScaler, MinMaxScaler, RobustScaler, OneHotEncoder\n",
    "from sklearn.impute import SimpleImputer\n",
    "import matplotlib.pyplot as plt\n",
    "import pandas as pd\n",
    "import seaborn as sns\n",
    "from sklearn.metrics import balanced_accuracy_score, accuracy_score, confusion_matrix\n",
    "from sklearn.model_selection import GridSearchCV\n",
    "from sklearn.tree import DecisionTreeClassifier\n",
    "from sklearn.neighbors import KNeighborsClassifier\n",
    "import time\n",
    "from sklearn.linear_model import LogisticRegression\n",
    "from sklearn.svm import SVC\n",
    "import pickle"
   ]
  },
  {
   "cell_type": "code",
   "execution_count": 60,
   "metadata": {
    "id": "vGwW0YWM4QX3"
   },
   "outputs": [],
   "source": [
    "# Cargamos el archivo\n",
    "data_df = pd.read_csv(\"attrition_25/attrition_availabledata_06.csv\") "
   ]
  },
  {
   "cell_type": "markdown",
   "metadata": {
    "id": "8-jAr-k5KQfe"
   },
   "source": [
    "Podemos comprobar el valos de las primeras instancias del dataframe"
   ]
  },
  {
   "cell_type": "code",
   "execution_count": 61,
   "metadata": {
    "id": "C6fyz7ae4QX3"
   },
   "outputs": [
    {
     "data": {
      "text/html": [
       "<div>\n",
       "<style scoped>\n",
       "    .dataframe tbody tr th:only-of-type {\n",
       "        vertical-align: middle;\n",
       "    }\n",
       "\n",
       "    .dataframe tbody tr th {\n",
       "        vertical-align: top;\n",
       "    }\n",
       "\n",
       "    .dataframe thead th {\n",
       "        text-align: right;\n",
       "    }\n",
       "</style>\n",
       "<table border=\"1\" class=\"dataframe\">\n",
       "  <thead>\n",
       "    <tr style=\"text-align: right;\">\n",
       "      <th></th>\n",
       "      <th>hrs</th>\n",
       "      <th>absences</th>\n",
       "      <th>JobInvolvement</th>\n",
       "      <th>PerformanceRating</th>\n",
       "      <th>EnvironmentSatisfaction</th>\n",
       "      <th>JobSatisfaction</th>\n",
       "      <th>WorkLifeBalance</th>\n",
       "      <th>Age</th>\n",
       "      <th>BusinessTravel</th>\n",
       "      <th>Department</th>\n",
       "      <th>...</th>\n",
       "      <th>Over18</th>\n",
       "      <th>PercentSalaryHike</th>\n",
       "      <th>StandardHours</th>\n",
       "      <th>StockOptionLevel</th>\n",
       "      <th>TotalWorkingYears</th>\n",
       "      <th>TrainingTimesLastYear</th>\n",
       "      <th>YearsAtCompany</th>\n",
       "      <th>YearsSinceLastPromotion</th>\n",
       "      <th>YearsWithCurrManager</th>\n",
       "      <th>Attrition</th>\n",
       "    </tr>\n",
       "  </thead>\n",
       "  <tbody>\n",
       "    <tr>\n",
       "      <th>0</th>\n",
       "      <td>5.896431</td>\n",
       "      <td>5</td>\n",
       "      <td>3</td>\n",
       "      <td>3</td>\n",
       "      <td>2.0</td>\n",
       "      <td>4.0</td>\n",
       "      <td>3.0</td>\n",
       "      <td>33</td>\n",
       "      <td>Travel_Rarely</td>\n",
       "      <td>Research &amp; Development</td>\n",
       "      <td>...</td>\n",
       "      <td>Y</td>\n",
       "      <td>13</td>\n",
       "      <td>8</td>\n",
       "      <td>0</td>\n",
       "      <td>6.0</td>\n",
       "      <td>3</td>\n",
       "      <td>5</td>\n",
       "      <td>1</td>\n",
       "      <td>4</td>\n",
       "      <td>No</td>\n",
       "    </tr>\n",
       "    <tr>\n",
       "      <th>1</th>\n",
       "      <td>6.114877</td>\n",
       "      <td>19</td>\n",
       "      <td>3</td>\n",
       "      <td>3</td>\n",
       "      <td>3.0</td>\n",
       "      <td>3.0</td>\n",
       "      <td>3.0</td>\n",
       "      <td>20</td>\n",
       "      <td>Travel_Rarely</td>\n",
       "      <td>Research &amp; Development</td>\n",
       "      <td>...</td>\n",
       "      <td>Y</td>\n",
       "      <td>13</td>\n",
       "      <td>8</td>\n",
       "      <td>1</td>\n",
       "      <td>2.0</td>\n",
       "      <td>2</td>\n",
       "      <td>2</td>\n",
       "      <td>2</td>\n",
       "      <td>2</td>\n",
       "      <td>No</td>\n",
       "    </tr>\n",
       "    <tr>\n",
       "      <th>2</th>\n",
       "      <td>6.396730</td>\n",
       "      <td>11</td>\n",
       "      <td>3</td>\n",
       "      <td>3</td>\n",
       "      <td>1.0</td>\n",
       "      <td>4.0</td>\n",
       "      <td>4.0</td>\n",
       "      <td>46</td>\n",
       "      <td>Travel_Rarely</td>\n",
       "      <td>Research &amp; Development</td>\n",
       "      <td>...</td>\n",
       "      <td>Y</td>\n",
       "      <td>11</td>\n",
       "      <td>8</td>\n",
       "      <td>1</td>\n",
       "      <td>28.0</td>\n",
       "      <td>2</td>\n",
       "      <td>7</td>\n",
       "      <td>4</td>\n",
       "      <td>3</td>\n",
       "      <td>Yes</td>\n",
       "    </tr>\n",
       "    <tr>\n",
       "      <th>3</th>\n",
       "      <td>5.722452</td>\n",
       "      <td>22</td>\n",
       "      <td>4</td>\n",
       "      <td>3</td>\n",
       "      <td>1.0</td>\n",
       "      <td>1.0</td>\n",
       "      <td>4.0</td>\n",
       "      <td>40</td>\n",
       "      <td>Travel_Rarely</td>\n",
       "      <td>Sales</td>\n",
       "      <td>...</td>\n",
       "      <td>Y</td>\n",
       "      <td>13</td>\n",
       "      <td>8</td>\n",
       "      <td>1</td>\n",
       "      <td>9.0</td>\n",
       "      <td>2</td>\n",
       "      <td>8</td>\n",
       "      <td>7</td>\n",
       "      <td>1</td>\n",
       "      <td>No</td>\n",
       "    </tr>\n",
       "    <tr>\n",
       "      <th>4</th>\n",
       "      <td>5.663001</td>\n",
       "      <td>21</td>\n",
       "      <td>3</td>\n",
       "      <td>3</td>\n",
       "      <td>4.0</td>\n",
       "      <td>4.0</td>\n",
       "      <td>3.0</td>\n",
       "      <td>38</td>\n",
       "      <td>Travel_Frequently</td>\n",
       "      <td>Research &amp; Development</td>\n",
       "      <td>...</td>\n",
       "      <td>Y</td>\n",
       "      <td>17</td>\n",
       "      <td>8</td>\n",
       "      <td>3</td>\n",
       "      <td>10.0</td>\n",
       "      <td>2</td>\n",
       "      <td>10</td>\n",
       "      <td>9</td>\n",
       "      <td>9</td>\n",
       "      <td>No</td>\n",
       "    </tr>\n",
       "  </tbody>\n",
       "</table>\n",
       "<p>5 rows × 31 columns</p>\n",
       "</div>"
      ],
      "text/plain": [
       "        hrs  absences  JobInvolvement  PerformanceRating  \\\n",
       "0  5.896431         5               3                  3   \n",
       "1  6.114877        19               3                  3   \n",
       "2  6.396730        11               3                  3   \n",
       "3  5.722452        22               4                  3   \n",
       "4  5.663001        21               3                  3   \n",
       "\n",
       "   EnvironmentSatisfaction  JobSatisfaction  WorkLifeBalance  Age  \\\n",
       "0                      2.0              4.0              3.0   33   \n",
       "1                      3.0              3.0              3.0   20   \n",
       "2                      1.0              4.0              4.0   46   \n",
       "3                      1.0              1.0              4.0   40   \n",
       "4                      4.0              4.0              3.0   38   \n",
       "\n",
       "      BusinessTravel              Department  ...  Over18  PercentSalaryHike  \\\n",
       "0      Travel_Rarely  Research & Development  ...       Y                 13   \n",
       "1      Travel_Rarely  Research & Development  ...       Y                 13   \n",
       "2      Travel_Rarely  Research & Development  ...       Y                 11   \n",
       "3      Travel_Rarely                   Sales  ...       Y                 13   \n",
       "4  Travel_Frequently  Research & Development  ...       Y                 17   \n",
       "\n",
       "  StandardHours  StockOptionLevel  TotalWorkingYears TrainingTimesLastYear  \\\n",
       "0             8                 0                6.0                     3   \n",
       "1             8                 1                2.0                     2   \n",
       "2             8                 1               28.0                     2   \n",
       "3             8                 1                9.0                     2   \n",
       "4             8                 3               10.0                     2   \n",
       "\n",
       "   YearsAtCompany YearsSinceLastPromotion YearsWithCurrManager  Attrition  \n",
       "0               5                       1                    4         No  \n",
       "1               2                       2                    2         No  \n",
       "2               7                       4                    3        Yes  \n",
       "3               8                       7                    1         No  \n",
       "4              10                       9                    9         No  \n",
       "\n",
       "[5 rows x 31 columns]"
      ]
     },
     "execution_count": 61,
     "metadata": {},
     "output_type": "execute_result"
    }
   ],
   "source": [
    "data_df.head()"
   ]
  },
  {
   "cell_type": "markdown",
   "metadata": {
    "id": "_mdqmMcdKYcl"
   },
   "source": [
    "El dataset es demasiado grande, por eso no podemos visualizarlo al completo"
   ]
  },
  {
   "cell_type": "markdown",
   "metadata": {},
   "source": [
    "Ahora observamos cuantos y qué tipo de datos vamos a estar tratando\n"
   ]
  },
  {
   "cell_type": "code",
   "execution_count": 62,
   "metadata": {
    "id": "Vw_EJnkwLD9d"
   },
   "outputs": [
    {
     "name": "stdout",
     "output_type": "stream",
     "text": [
      "The shape of the data table is:\n",
      "===============================\n",
      "(2940, 31)\n",
      "\n",
      "The types of the attributes are:\n",
      "================================\n",
      "<class 'pandas.core.frame.DataFrame'>\n",
      "RangeIndex: 2940 entries, 0 to 2939\n",
      "Data columns (total 31 columns):\n",
      " #   Column                   Non-Null Count  Dtype  \n",
      "---  ------                   --------------  -----  \n",
      " 0   hrs                      2940 non-null   float64\n",
      " 1   absences                 2940 non-null   int64  \n",
      " 2   JobInvolvement           2940 non-null   int64  \n",
      " 3   PerformanceRating        2940 non-null   int64  \n",
      " 4   EnvironmentSatisfaction  2921 non-null   float64\n",
      " 5   JobSatisfaction          2928 non-null   float64\n",
      " 6   WorkLifeBalance          2913 non-null   float64\n",
      " 7   Age                      2940 non-null   int64  \n",
      " 8   BusinessTravel           2940 non-null   object \n",
      " 9   Department               2940 non-null   object \n",
      " 10  DistanceFromHome         2940 non-null   int64  \n",
      " 11  Education                2940 non-null   int64  \n",
      " 12  EducationField           2940 non-null   object \n",
      " 13  EmployeeCount            2940 non-null   int64  \n",
      " 14  EmployeeID               2940 non-null   int64  \n",
      " 15  Gender                   2940 non-null   object \n",
      " 16  JobLevel                 2940 non-null   int64  \n",
      " 17  JobRole                  2940 non-null   object \n",
      " 18  MaritalStatus            2940 non-null   object \n",
      " 19  MonthlyIncome            2940 non-null   int64  \n",
      " 20  NumCompaniesWorked       2926 non-null   float64\n",
      " 21  Over18                   2940 non-null   object \n",
      " 22  PercentSalaryHike        2940 non-null   int64  \n",
      " 23  StandardHours            2940 non-null   int64  \n",
      " 24  StockOptionLevel         2940 non-null   int64  \n",
      " 25  TotalWorkingYears        2936 non-null   float64\n",
      " 26  TrainingTimesLastYear    2940 non-null   int64  \n",
      " 27  YearsAtCompany           2940 non-null   int64  \n",
      " 28  YearsSinceLastPromotion  2940 non-null   int64  \n",
      " 29  YearsWithCurrManager     2940 non-null   int64  \n",
      " 30  Attrition                2940 non-null   object \n",
      "dtypes: float64(6), int64(17), object(8)\n",
      "memory usage: 712.2+ KB\n",
      "\n",
      "How many missing values per attribute:\n",
      "======================================\n",
      "hrs                         0\n",
      "absences                    0\n",
      "JobInvolvement              0\n",
      "PerformanceRating           0\n",
      "EnvironmentSatisfaction    19\n",
      "JobSatisfaction            12\n",
      "WorkLifeBalance            27\n",
      "Age                         0\n",
      "BusinessTravel              0\n",
      "Department                  0\n",
      "DistanceFromHome            0\n",
      "Education                   0\n",
      "EducationField              0\n",
      "EmployeeCount               0\n",
      "EmployeeID                  0\n",
      "Gender                      0\n",
      "JobLevel                    0\n",
      "JobRole                     0\n",
      "MaritalStatus               0\n",
      "MonthlyIncome               0\n",
      "NumCompaniesWorked         14\n",
      "Over18                      0\n",
      "PercentSalaryHike           0\n",
      "StandardHours               0\n",
      "StockOptionLevel            0\n",
      "TotalWorkingYears           4\n",
      "TrainingTimesLastYear       0\n",
      "YearsAtCompany              0\n",
      "YearsSinceLastPromotion     0\n",
      "YearsWithCurrManager        0\n",
      "Attrition                   0\n",
      "dtype: int64\n",
      "\n",
      "Fraction of missing values per attribute:\n",
      "======================================\n",
      "hrs                        0.000000\n",
      "absences                   0.000000\n",
      "JobInvolvement             0.000000\n",
      "PerformanceRating          0.000000\n",
      "EnvironmentSatisfaction    0.006463\n",
      "JobSatisfaction            0.004082\n",
      "WorkLifeBalance            0.009184\n",
      "Age                        0.000000\n",
      "BusinessTravel             0.000000\n",
      "Department                 0.000000\n",
      "DistanceFromHome           0.000000\n",
      "Education                  0.000000\n",
      "EducationField             0.000000\n",
      "EmployeeCount              0.000000\n",
      "EmployeeID                 0.000000\n",
      "Gender                     0.000000\n",
      "JobLevel                   0.000000\n",
      "JobRole                    0.000000\n",
      "MaritalStatus              0.000000\n",
      "MonthlyIncome              0.000000\n",
      "NumCompaniesWorked         0.004762\n",
      "Over18                     0.000000\n",
      "PercentSalaryHike          0.000000\n",
      "StandardHours              0.000000\n",
      "StockOptionLevel           0.000000\n",
      "TotalWorkingYears          0.001361\n",
      "TrainingTimesLastYear      0.000000\n",
      "YearsAtCompany             0.000000\n",
      "YearsSinceLastPromotion    0.000000\n",
      "YearsWithCurrManager       0.000000\n",
      "Attrition                  0.000000\n",
      "dtype: float64\n"
     ]
    }
   ],
   "source": [
    "print('The shape of the data table is:')\n",
    "print('===============================')\n",
    "print(data_df.shape)\n",
    "print()\n",
    "\n",
    "print('The types of the attributes are:')\n",
    "print('================================')\n",
    "data_df.info()\n",
    "\n",
    "print()\n",
    "\n",
    "print('How many missing values per attribute:')\n",
    "print('======================================')\n",
    "print(data_df.isnull().sum())\n",
    "\n",
    "print()\n",
    "\n",
    "print('Fraction of missing values per attribute:')\n",
    "print('======================================')\n",
    "print(data_df.isnull().mean())\n"
   ]
  },
  {
   "cell_type": "markdown",
   "metadata": {},
   "source": [
    "Gracias a este análisis sabemos que tendremos:\n",
    "\n",
    "+ 2940 muestras (trabajadores)\n",
    "+ 31 datos de cada una de ellas\n",
    "    - Datos existentes de 3 tipos (object, int y float64)\n",
    "    - Algunos datos faltan de ciertos trabajadores, pero comparándolo con el total no faltan demasiados\n",
    "    - existen 8 variables de tipo object o categóricas que tendremos que convertir\n",
    "+ Nuestra variable objetivo (attrition) es de tipo categórica, por lo que estamos ante un problema de clasificación\n"
   ]
  },
  {
   "cell_type": "markdown",
   "metadata": {},
   "source": [
    "Puesto que nos encontramos ante un problema de clasificación debemos analizar si nuestra variable Attrition está equilibrada:"
   ]
  },
  {
   "cell_type": "code",
   "execution_count": 63,
   "metadata": {},
   "outputs": [
    {
     "name": "stdout",
     "output_type": "stream",
     "text": [
      "Attrition\n",
      "No     2466\n",
      "Yes     474\n",
      "Name: count, dtype: int64\n",
      "Attrition\n",
      "No     0.838776\n",
      "Yes    0.161224\n",
      "Name: proportion, dtype: float64\n"
     ]
    }
   ],
   "source": [
    "# Comprobar cuántas veces aparece cada clase en la columna 'Attrition'\n",
    "print(data_df['Attrition'].value_counts())\n",
    "\n",
    "# Comprobar la proporción de cada clase\n",
    "print(data_df['Attrition'].value_counts(normalize=True))"
   ]
  },
  {
   "cell_type": "markdown",
   "metadata": {},
   "source": [
    "Podemos observar que la variable objetivo está muy desvalanceada, por lo que más ademlante debemos tenerlo en cuenta para nuestro arbol"
   ]
  },
  {
   "cell_type": "markdown",
   "metadata": {},
   "source": [
    "\n",
    "# Preprocesado\n",
    "---\n"
   ]
  },
  {
   "cell_type": "markdown",
   "metadata": {},
   "source": [
    "Primero debemos comprobar que variables son innecesarias y, por tanto, se pueden eliminar, como aquellas constantes.\n",
    "\n",
    "\n",
    "Tambien analizaremos la cardinalidad de nuestras variables para ver cuales poseen una demasiado alta"
   ]
  },
  {
   "cell_type": "code",
   "execution_count": 64,
   "metadata": {},
   "outputs": [
    {
     "name": "stdout",
     "output_type": "stream",
     "text": [
      "Columnas eliminadas (constantes): ['EmployeeCount', 'Over18', 'StandardHours']\n"
     ]
    }
   ],
   "source": [
    "# Identificar columnas constantes\n",
    "constant_columns = [col for col in data_df.columns if data_df[col].nunique() == 1]\n",
    "\n",
    "# Eliminar las columnas constantes del dataframe\n",
    "processed_df = data_df.drop(columns=constant_columns)\n",
    "\n",
    "# Mostrar las columnas eliminadas\n",
    "print(f\"Columnas eliminadas (constantes): {constant_columns}\")"
   ]
  },
  {
   "cell_type": "code",
   "execution_count": 65,
   "metadata": {},
   "outputs": [
    {
     "name": "stdout",
     "output_type": "stream",
     "text": [
      "Cardinalidad de las variables categóricas:\n",
      "BusinessTravel    3\n",
      "Department        3\n",
      "EducationField    6\n",
      "Gender            2\n",
      "JobRole           9\n",
      "MaritalStatus     3\n",
      "Attrition         2\n",
      "dtype: int64\n"
     ]
    }
   ],
   "source": [
    "# Paso 1: Identificar variables categóricas\n",
    "categorical_columns = processed_df.select_dtypes(include=['object']).columns\n",
    "\n",
    "# Paso 2: Contar las categorías únicas por variable\n",
    "cardinality = processed_df[categorical_columns].nunique()\n",
    "\n",
    "print(\"Cardinalidad de las variables categóricas:\")\n",
    "print(cardinality)"
   ]
  },
  {
   "cell_type": "markdown",
   "metadata": {},
   "source": [
    "Éstos datos nos indican que no tenemos ninguna variable con demasiada cardinalidad.\n",
    "\n",
    "variable con más cardinalidad: \"JobRole\" con 9"
   ]
  },
  {
   "cell_type": "markdown",
   "metadata": {},
   "source": [
    "debemos tener en cuenta las diferentes opciones de escalado e imputación para la creación de los pipelines y obtener así la mejor de todas"
   ]
  },
  {
   "cell_type": "code",
   "execution_count": 66,
   "metadata": {},
   "outputs": [],
   "source": [
    "numerical_columns = data_df.select_dtypes(include=['int64', 'float64']).columns\n",
    "categorical_columns = data_df.select_dtypes(include=['object']).columns.drop('Attrition')\n",
    "\n",
    "\n",
    "# Opciones de escalado e imputación\n",
    "scalers = {\n",
    "    \"standard\": StandardScaler(),\n",
    "    \"minmax\": MinMaxScaler(),\n",
    "    \"robust\": RobustScaler()\n",
    "}\n",
    "\n",
    "imputers = {\n",
    "    \"mean\": SimpleImputer(strategy=\"mean\"),\n",
    "    \"median\": SimpleImputer(strategy=\"median\")\n",
    "}\n",
    "\n",
    "\n",
    "\n"
   ]
  },
  {
   "cell_type": "markdown",
   "metadata": {},
   "source": [
    "Generamos nuestra funcion para crear distintos pipelines\n",
    "\n",
    "Como el dataset se encuentra desbalanceado debemos incluir `class_weight='balanced' en el clasifier\n",
    "\n",
    "también transformaremos nuestras variables categóricas con OneHotEncoder ya que éstas variables no tienen demasiada cardinalidad, por tanto no estaremos añadiendo demasiadas columnas."
   ]
  },
  {
   "cell_type": "code",
   "execution_count": 67,
   "metadata": {},
   "outputs": [],
   "source": [
    "# Definir pipeline base\n",
    "def create_pipeline(scaler, imputer):\n",
    "    numerical_transformer = Pipeline(steps=[\n",
    "        ('imputer', imputer),\n",
    "        ('scaler', scaler)\n",
    "    ])\n",
    "\n",
    "    categorical_transformer = Pipeline(steps=[\n",
    "        ('imputer', SimpleImputer(strategy='most_frequent')),\n",
    "        ('onehot', OneHotEncoder(handle_unknown='ignore', sparse_output=False))\n",
    "    ])\n",
    "\n",
    "    preprocessor = ColumnTransformer(\n",
    "        transformers=[\n",
    "            ('num', numerical_transformer, numerical_columns),\n",
    "            ('cat', categorical_transformer, categorical_columns)\n",
    "        ]\n",
    "    )\n",
    "\n",
    "    pipeline = Pipeline(steps=[\n",
    "        ('preprocessor', preprocessor),\n",
    "        ('classifier', DecisionTreeClassifier(class_weight='balanced'))\n",
    "    ])\n",
    "\n",
    "    return pipeline\n"
   ]
  },
  {
   "cell_type": "markdown",
   "metadata": {},
   "source": [
    "\n",
    "Ahora comprobaremos la correlación de las variables con respecto a nuestra variable objetivo:"
   ]
  },
  {
   "cell_type": "code",
   "execution_count": 68,
   "metadata": {},
   "outputs": [
    {
     "name": "stderr",
     "output_type": "stream",
     "text": [
      "/tmp/ipykernel_11422/329369917.py:16: FutureWarning: \n",
      "\n",
      "Passing `palette` without assigning `hue` is deprecated and will be removed in v0.14.0. Assign the `x` variable to `hue` and set `legend=False` for the same effect.\n",
      "\n",
      "  sns.barplot(x=top_correlation.index, y=top_correlation.values, palette=\"coolwarm\")\n"
     ]
    },
    {
     "data": {
      "image/png": "[encoded data removed]",
      "text/plain": [
       "<Figure size 1000x500 with 1 Axes>"
      ]
     },
     "metadata": {},
     "output_type": "display_data"
    }
   ],
   "source": [
    "# Mapea directamente la columna 'Attrition' a valores binarios\n",
    "data_df['Attrition'] = data_df['Attrition'].map({'Yes': 1, 'No': 0})\n",
    "\n",
    "# Usar OneHotEncoder para convertir variables categóricas en variables numéricas\n",
    "data_df_encoded = pd.get_dummies(data_df, drop_first=True)\n",
    "\n",
    "# Calcular la correlación de todas las variables con 'Attrition'\n",
    "correlation_with_attrition = data_df_encoded.corr()['Attrition'].sort_values(ascending=False)\n",
    "\n",
    "# Seleccionar las 10 variables con la mayor correlación para mostrarlas\n",
    "top_n = 10\n",
    "top_correlation = correlation_with_attrition[1:top_n+1]  # Excluimos 'Attrition' que siempre tendrá correlación 1\n",
    "\n",
    "# Mostrar el gráfico de correlación\n",
    "plt.figure(figsize=(10, 5))\n",
    "sns.barplot(x=top_correlation.index, y=top_correlation.values, palette=\"coolwarm\")\n",
    "plt.xticks(rotation=45)\n",
    "plt.title(f\"Top {top_n} Correlaciones con Attrition\")\n",
    "plt.show()\n"
   ]
  },
  {
   "cell_type": "markdown",
   "metadata": {},
   "source": [
    "Esto indica que las horas de trabajo están fuertemente relacionadas al igual que si nuestro trabajador está casado o no.\n",
    "\n"
   ]
  },
  {
   "cell_type": "markdown",
   "metadata": {},
   "source": [
    "Codificamos la salida separando los datos en train/test (Holdout)"
   ]
  },
  {
   "cell_type": "code",
   "execution_count": 69,
   "metadata": {},
   "outputs": [],
   "source": [
    "X = data_df.drop(columns=['Attrition'])  # Elimina la columna 'Attrition'\n",
    "y = data_df['Attrition']  # Definir la variable objetivo\n",
    "\n",
    "# Seleccionados train/test en modo stratify, ya que el dataset se encuentra desbalanceado\n",
    "X_train, X_test, y_train, y_test = train_test_split(X, y, stratify=y, test_size=1/3, random_state=42)"
   ]
  },
  {
   "cell_type": "markdown",
   "metadata": {},
   "source": [
    "## Hiperparámetros y evaluacion de modelos"
   ]
  },
  {
   "cell_type": "markdown",
   "metadata": {},
   "source": [
    "Llevamos a cabo la optimizacion de hiperparámetros utilizando KNN\n",
    "\n"
   ]
  },
  {
   "cell_type": "code",
   "execution_count": 70,
   "metadata": {},
   "outputs": [
    {
     "name": "stdout",
     "output_type": "stream",
     "text": [
      "Fitting 5 folds for each of 120 candidates, totalling 600 fits\n",
      "Mejores hiperparámetros: {'classifier': KNeighborsClassifier(), 'classifier__metric': 'manhattan', 'classifier__n_neighbors': 3, 'classifier__weights': 'distance', 'preprocessor__num__imputer': SimpleImputer(), 'preprocessor__num__scaler': RobustScaler()}\n"
     ]
    }
   ],
   "source": [
    "# Definir los hiperparámetros para buscar\n",
    "param_grid = {\n",
    "        'preprocessor__num__imputer': [SimpleImputer(strategy='mean'), SimpleImputer(strategy='median')],\n",
    "        'preprocessor__num__scaler': [StandardScaler(), MinMaxScaler(), RobustScaler()],\n",
    "        'classifier': [KNeighborsClassifier()],\n",
    "        'classifier__n_neighbors': [3, 5, 7, 10, 15],\n",
    "        'classifier__weights': ['uniform', 'distance'],\n",
    "        'classifier__metric': ['euclidean', 'manhattan']\n",
    "    }\n",
    "\n",
    "\n",
    "\n",
    "grid_search = GridSearchCV(\n",
    "    create_pipeline(MinMaxScaler(), SimpleImputer(strategy=\"mean\")),  # Necesita un Pipeline base\n",
    "    param_grid, # El pipeline base anterior lo reemplaza por todas las opciones aquí\n",
    "    cv=StratifiedKFold(n_splits=5, shuffle=True, random_state=42),\n",
    "    scoring='balanced_accuracy',\n",
    "    n_jobs=-1,\n",
    "    verbose=1\n",
    ")\n",
    "\n",
    "# Medir tiempo de entrenamiento con HPO\n",
    "start_time = time.time()\n",
    "grid_search.fit(X_train, y_train)   # Entrenar el modelo con GridSearchCV\n",
    "end_time = time.time()\n",
    "\n",
    "GridTime = end_time - start_time\n",
    "\n",
    "\n",
    "# Mostrar los mejores parámetros encontrados\n",
    "print(\"Mejores hiperparámetros:\", grid_search.best_params_)\n",
    "\n",
    "\n",
    "# Acceder al mejor modelo entrenado\n",
    "best_model = grid_search.best_estimator_\n",
    "\n",
    "y_pred = best_model.predict(X_test)\n",
    "\n",
    "ElMejorModeloKNN = best_model #Esto lo guardo para más adelante, ya que veremos que nos da la mejor de las predicciones\n"
   ]
  },
  {
   "cell_type": "markdown",
   "metadata": {},
   "source": [
    "Los mejores hiperparámetros que ha elegido GridSearchCV son:\n",
    "\n",
    "-   Criterio de división del árbol -> 'gini'\n",
    "-   Profundidad máxima del árbol -> None (es decir, sin límite de profundidad)\n",
    "-   Mínimo de muestras por hoja -> 2\n",
    "-   Método de imputación -> SimpleImputer() (por defecto usa strategy='mean', es decir, reemplazar valores faltantes con la media)\n",
    "-   Método de escalado -> StandardScaler() (escalado estándar: media 0, desviación estándar 1)\n",
    "\n",
    "\n",
    "\n",
    "\n",
    "\n",
    "Finalmente sacamos nuestra validación cruzada"
   ]
  },
  {
   "cell_type": "code",
   "execution_count": 71,
   "metadata": {},
   "outputs": [
    {
     "name": "stdout",
     "output_type": "stream",
     "text": [
      "Media de validación cruzada con hiperparámetros KNN: 0.8135746153244208\n"
     ]
    }
   ],
   "source": [
    "# Realizar validación cruzada con 5 folds en los datos de entrenamiento\n",
    "cv_scores = cross_val_score(best_model, X_train, y_train, cv=5, scoring=\"balanced_accuracy\", n_jobs=-1)\n",
    "\n",
    "# Mostrar los resultados\n",
    "print(\"Media de validación cruzada con hiperparámetros KNN:\", cv_scores.mean())"
   ]
  },
  {
   "cell_type": "markdown",
   "metadata": {},
   "source": [
    "Ahora se evaluará con los hiperparámetros por omisión"
   ]
  },
  {
   "cell_type": "code",
   "execution_count": 72,
   "metadata": {},
   "outputs": [
    {
     "name": "stdout",
     "output_type": "stream",
     "text": [
      "Media de validación cruzada sin hiperparámetros KNN: 0.5889364842546602\n"
     ]
    }
   ],
   "source": [
    "# Crear el pipeline con los valores predeterminados\n",
    "default_pipeline = Pipeline(steps=[\n",
    "    ('preprocessor', ColumnTransformer(transformers=[\n",
    "        ('num', Pipeline(steps=[\n",
    "            ('imputer', SimpleImputer()), \n",
    "            ('scaler', StandardScaler())  \n",
    "        ]), numerical_columns),\n",
    "        ('cat', Pipeline(steps=[\n",
    "            ('imputer', SimpleImputer(strategy='most_frequent')),  \n",
    "            ('onehot', OneHotEncoder(handle_unknown='ignore', sparse_output=False))\n",
    "        ]), categorical_columns)\n",
    "    ])),\n",
    "    ('classifier', KNeighborsClassifier()) \n",
    "])\n",
    "\n",
    "\n",
    "# Medir tiempo de entrenamiento con HPO\n",
    "start_time = time.time()\n",
    "default_pipeline.fit(X_train, y_train)  # Entrenar el modelo\n",
    "end_time = time.time()\n",
    "\n",
    "defaultTime = end_time - start_time\n",
    "\n",
    "# Predecir con el modelo por defecto\n",
    "y_pred_default = default_pipeline.predict(X_test)\n",
    "\n",
    "# Realizar validación cruzada con 5 folds en los datos de entrenamiento\n",
    "cv_scores = cross_val_score(default_pipeline, X_train, y_train, cv=5, scoring=\"balanced_accuracy\", n_jobs=-1)\n",
    "\n",
    "# Mostrar los resultados\n",
    "print(\"Media de validación cruzada sin hiperparámetros KNN:\", cv_scores.mean())\n"
   ]
  },
  {
   "cell_type": "markdown",
   "metadata": {},
   "source": [
    "Calculamos las métricas de ambos métodos y calculamos TPR y TNR partiendo de la matriz de confusion"
   ]
  },
  {
   "cell_type": "code",
   "execution_count": 73,
   "metadata": {},
   "outputs": [
    {
     "name": "stdout",
     "output_type": "stream",
     "text": [
      "BalancedAcc: 0.8905879454248669\n",
      "\n",
      "Balanced Accuracy con hiperparámetros por omisión: 0.6010271335735625\n",
      "--------------------------------------\n",
      "Acc: 0.9408163265306122\n",
      "\n",
      "Acc con hiperparámetros por omisión: 0.8581632653061224\n",
      "--------------------------------------\n",
      "MatrizConf: [[793  29]\n",
      " [ 29 129]]\n",
      "--------------------------------------\n",
      "Tiempo de entrenamiento con HPO: 15.767170906066895\n",
      "Tiempo de entrenamiento con valores por omisión: 0.03148484230041504\n",
      "--------------------------------------\n",
      "\n",
      "\n",
      "True Positive Rate:  0.8164556962025317\n",
      "True Negative Rate:  0.9647201946472019\n"
     ]
    }
   ],
   "source": [
    "balanceado = balanced_accuracy_score(y_test, y_pred)\n",
    "acc = accuracy_score(y_test, y_pred)\n",
    "matrizConfusion = confusion_matrix(y_test, y_pred)\n",
    "\n",
    "# Evaluar el modelo por omisión\n",
    "default_acc = accuracy_score(y_test, y_pred_default)\n",
    "default_balanced_acc = balanced_accuracy_score(y_test, y_pred_default)\n",
    "\n",
    "\n",
    "\n",
    "print(\"BalancedAcc:\", balanceado)\n",
    "print(f\"\\nBalanced Accuracy con hiperparámetros por omisión: {default_balanced_acc}\")\n",
    "print(\"--------------------------------------\")\n",
    "print(\"Acc:\", acc)\n",
    "print(f\"\\nAcc con hiperparámetros por omisión: {default_acc}\")\n",
    "print(\"--------------------------------------\")\n",
    "print(\"MatrizConf:\", matrizConfusion)\n",
    "print(\"--------------------------------------\")\n",
    "print(\"Tiempo de entrenamiento con HPO:\", GridTime)\n",
    "print(\"Tiempo de entrenamiento con valores por omisión:\", defaultTime)\n",
    "print(\"--------------------------------------\\n\\n\")\n",
    "\n",
    "TPR = matrizConfusion[1, 1] / (matrizConfusion[1, 0] + matrizConfusion[1, 1])  \n",
    "TNR = matrizConfusion[0, 0] / (matrizConfusion[0, 0] + matrizConfusion[0, 1])\n",
    "\n",
    "print(\"True Positive Rate: \", TPR)\n",
    "print(\"True Negative Rate: \", TNR)\n",
    "\n"
   ]
  },
  {
   "cell_type": "markdown",
   "metadata": {},
   "source": [
    "---\n",
    "Ahora haremos lo mismo con DTC"
   ]
  },
  {
   "cell_type": "markdown",
   "metadata": {},
   "source": [
    "Creamos el grid search"
   ]
  },
  {
   "cell_type": "code",
   "execution_count": 74,
   "metadata": {},
   "outputs": [],
   "source": [
    "\n",
    "# HPO: Búsqueda de hiperparámetros óptimos\n",
    "param_grid2 = {\n",
    "        'classifier': [DecisionTreeClassifier(random_state=42, class_weight='balanced')],\n",
    "        'preprocessor__num__imputer': [SimpleImputer(strategy='mean'), SimpleImputer(strategy='median')],\n",
    "        'preprocessor__num__scaler': [StandardScaler(), MinMaxScaler(), RobustScaler()],\n",
    "        'classifier__max_depth': [3, 5, 10, 15, None],\n",
    "        'classifier__min_samples_split': [2, 5, 10],\n",
    "        'classifier__criterion': ['gini', 'entropy']\n",
    "    }\n",
    "\n",
    "grid_search2 = GridSearchCV(\n",
    "    create_pipeline(MinMaxScaler(), SimpleImputer(strategy=\"mean\")), \n",
    "    param_grid2,\n",
    "    scoring='balanced_accuracy',\n",
    "    n_jobs=-1,\n",
    "    verbose=1\n",
    ")"
   ]
  },
  {
   "cell_type": "markdown",
   "metadata": {},
   "source": [
    "Entrenamiento con hiperparámetros"
   ]
  },
  {
   "cell_type": "code",
   "execution_count": 75,
   "metadata": {},
   "outputs": [
    {
     "name": "stdout",
     "output_type": "stream",
     "text": [
      "Fitting 5 folds for each of 180 candidates, totalling 900 fits\n",
      "Media de validación cruzada con hiperparámetros DTC: 0.7777766451676674\n",
      "Default Decision Tree Balanced Acuracy: 0.8160, Training Time: 20.2183 s\n",
      "Mejores parámetros: {'classifier': DecisionTreeClassifier(class_weight='balanced', random_state=42), 'classifier__criterion': 'entropy', 'classifier__max_depth': None, 'classifier__min_samples_split': 2, 'preprocessor__num__imputer': SimpleImputer(strategy='median'), 'preprocessor__num__scaler': StandardScaler()}\n"
     ]
    }
   ],
   "source": [
    "start_time = time.time()\n",
    "grid_search2.fit(X_train, y_train)\n",
    "default_train_time = time.time() - start_time\n",
    "\n",
    "best_DTC = grid_search2.best_estimator_\n",
    "y_pred_best = best_DTC.predict(X_test)\n",
    "DTC_Bal_acc = balanced_accuracy_score(y_test, y_pred_best)\n",
    "DTC_acc = accuracy_score(y_test, y_pred_best)\n",
    "\n",
    "# Realizar validación cruzada con 5 folds en los datos de entrenamiento\n",
    "cv_scores = cross_val_score(best_DTC, X_train, y_train, cv=5, scoring=\"balanced_accuracy\", n_jobs=-1)\n",
    "\n",
    "# Mostrar los resultados\n",
    "print(\"Media de validación cruzada con hiperparámetros DTC:\", cv_scores.mean())\n",
    "\n",
    "\n",
    "print(f\"Default Decision Tree Balanced Acuracy: {DTC_Bal_acc:.4f}, Training Time: {default_train_time:.4f} s\")\n",
    "print(f\"Mejores parámetros: {grid_search2.best_params_}\")\n"
   ]
  },
  {
   "cell_type": "markdown",
   "metadata": {},
   "source": [
    "Hiperparámetros por omisión del DTC"
   ]
  },
  {
   "cell_type": "code",
   "execution_count": 76,
   "metadata": {},
   "outputs": [
    {
     "name": "stdout",
     "output_type": "stream",
     "text": [
      "Media de validación cruzada sin hiperparámetros DTC: 0.7499845038343999\n"
     ]
    }
   ],
   "source": [
    "# Crear el pipeline con los valores predeterminados\n",
    "default_pipeline = Pipeline(steps=[\n",
    "    ('preprocessor', ColumnTransformer(transformers=[\n",
    "        ('num', Pipeline(steps=[\n",
    "            ('imputer', SimpleImputer()),  \n",
    "            ('scaler', StandardScaler())  \n",
    "        ]), numerical_columns),\n",
    "        ('cat', Pipeline(steps=[\n",
    "            ('imputer', SimpleImputer(strategy='most_frequent')),  \n",
    "            ('onehot', OneHotEncoder(handle_unknown='ignore', sparse_output=False))\n",
    "        ]), categorical_columns)\n",
    "    ])),\n",
    "    ('classifier', DecisionTreeClassifier(random_state=42, class_weight='balanced'))\n",
    "])\n",
    "\n",
    "start_time = time.time()\n",
    "default_pipeline.fit(X_train, y_train)  # Entrenar el modelo\n",
    "end_time = time.time()\n",
    "\n",
    "defaultTime = end_time - start_time\n",
    "\n",
    "# Predecir con el modelo por defecto\n",
    "y_pred_default = default_pipeline.predict(X_test)\n",
    "\n",
    "# Realizar validación cruzada con 5 folds en los datos de entrenamiento\n",
    "cv_scores = cross_val_score(default_pipeline, X_train, y_train, cv=5, scoring=\"balanced_accuracy\", n_jobs=-1)\n",
    "\n",
    "# Mostrar los resultados\n",
    "print(\"Media de validación cruzada sin hiperparámetros DTC:\", cv_scores.mean())"
   ]
  },
  {
   "cell_type": "markdown",
   "metadata": {},
   "source": [
    "Calculamos las métricas de ambos métodos y calculamos TPR y TNR partiendo de la matriz de confusion"
   ]
  },
  {
   "cell_type": "code",
   "execution_count": 77,
   "metadata": {},
   "outputs": [
    {
     "name": "stdout",
     "output_type": "stream",
     "text": [
      "BalancedAcc: 0.815986017432012\n",
      "\n",
      "Balanced Accuracy con hiperparámetros por omisión: 0.8066155409775478\n",
      "--------------------------------------\n",
      "Acc: 0.8928571428571429\n",
      "\n",
      "Acc con hiperparámetros por omisión: 0.8857142857142857\n",
      "--------------------------------------\n",
      "MatrizConf: [[764  58]\n",
      " [ 47 111]]\n",
      "--------------------------------------\n",
      "Tiempo de entrenamiento con HPO: 20.218326330184937\n",
      "Tiempo de entrenamiento con valores por omisión: 0.06137871742248535\n",
      "--------------------------------------\n",
      "\n",
      "\n",
      "True Positive Rate:  0.7025316455696202\n",
      "True Negative Rate:  0.9294403892944039\n"
     ]
    }
   ],
   "source": [
    "\n",
    "matrizConfusion = confusion_matrix(y_test, y_pred_best)\n",
    "\n",
    "# Evaluar el modelo por omisión\n",
    "default_acc = accuracy_score(y_test, y_pred_default)\n",
    "default_balanced_acc = balanced_accuracy_score(y_test, y_pred_default)\n",
    "\n",
    "\n",
    "\n",
    "print(\"BalancedAcc:\", DTC_Bal_acc)\n",
    "print(f\"\\nBalanced Accuracy con hiperparámetros por omisión: {default_balanced_acc}\")\n",
    "print(\"--------------------------------------\")\n",
    "print(\"Acc:\", DTC_acc)\n",
    "print(f\"\\nAcc con hiperparámetros por omisión: {default_acc}\")\n",
    "print(\"--------------------------------------\")\n",
    "print(\"MatrizConf:\", matrizConfusion)\n",
    "print(\"--------------------------------------\")\n",
    "print(\"Tiempo de entrenamiento con HPO:\", default_train_time)\n",
    "print(\"Tiempo de entrenamiento con valores por omisión:\", defaultTime)\n",
    "print(\"--------------------------------------\\n\\n\")\n",
    "\n",
    "TPR = matrizConfusion[1, 1] / (matrizConfusion[1, 0] + matrizConfusion[1, 1])  \n",
    "TNR = matrizConfusion[0, 0] / (matrizConfusion[0, 0] + matrizConfusion[0, 1])\n",
    "\n",
    "print(\"True Positive Rate: \", TPR)\n",
    "print(\"True Negative Rate: \", TNR)\n"
   ]
  },
  {
   "cell_type": "markdown",
   "metadata": {},
   "source": [
    "## ANÁLISIS\n",
    "\n",
    "Segun los datos obtenidos nos fijaremos más en el balanced acuracy ya que nuestra variable objetivo está desbalanceada:\n",
    "\n",
    "1. Cuando utilizamos GridSearch cpon el KNN obtenemos mejores parámetros, con un acierto mayor a los valores por omisión (0.89 frente a 0.81).\n",
    "Lo mismo ocurre con el DTC (0.81 frente a 0.6)\n",
    "\n",
    "2. El coste computacional es mucho mayor en el GridSearch ya que comprueba todas las combinaciones posibles, de esa manera obtiene un porcentage de acierto mayor.\n",
    "\n",
    "3. El modelo optimizado es mucho mejor que un modelo trivial como DummyClassifier que tendría un BalancedAcc mucho menor ya que asigna valores al azar sin tener en cuenta otros parámetros.\n",
    "\n",
    "4. En definitiva hay una mejora de aproximadamente el 7% entre ambos métodos del KNN, que podemos considerar bastante significativa y, por tanto, concluiremos que nuestro método por ajuste de hiperparámetros (el GridSearch) es mejor al método de valores por omisión pero a un coste computacional mucho mayor. \n",
    "\n",
    "5. EL método KNN es considerablemente más preciso que el Decision tree clasifier ya que el balanced acuracy de ambos es del 0.81 en el DTC y del 0.89 en el KNN.\n",
    "\n",
    "6. Mediante el método KNN a la hora de buscar los mejores hiperparámetros se ha dedido que el numero de vecinos será 3, es decir el más pequeño dado que choca con el DTC que necesitará una profundidad máxima de 15, es decir la más grande dada y un minimo de muestras de 5."
   ]
  },
  {
   "cell_type": "markdown",
   "metadata": {},
   "source": [
    "## Modelos Lineales\n",
    "\n",
    "debemos crear un nuevo pipeline ya que nuestro clasifier está fijo en nuestra función anterior y nos da problemas un solver frente a otro si no tenemos restricciones en la regresión o si tenemos restriccion de tipo L1."
   ]
  },
  {
   "cell_type": "code",
   "execution_count": 78,
   "metadata": {},
   "outputs": [],
   "source": [
    "def create_pipeline_2(scaler, imputer, classifier):\n",
    "    numerical_transformer = Pipeline(steps=[\n",
    "        ('imputer', imputer),\n",
    "        ('scaler', scaler)\n",
    "    ])\n",
    "\n",
    "    categorical_transformer = Pipeline(steps=[\n",
    "        ('imputer', SimpleImputer(strategy='most_frequent')),\n",
    "        ('onehot', OneHotEncoder(handle_unknown='ignore', sparse_output=False))\n",
    "    ])\n",
    "\n",
    "    preprocessor = ColumnTransformer(\n",
    "        transformers=[\n",
    "            ('num', numerical_transformer, numerical_columns),\n",
    "            ('cat', categorical_transformer, categorical_columns)\n",
    "        ]\n",
    "    )\n",
    "\n",
    "    pipeline = Pipeline(steps=[\n",
    "        ('preprocessor', preprocessor),\n",
    "        ('classifier', classifier)\n",
    "    ])\n",
    "\n",
    "    return pipeline"
   ]
  },
  {
   "cell_type": "markdown",
   "metadata": {},
   "source": [
    "Sin regulación L1:"
   ]
  },
  {
   "cell_type": "code",
   "execution_count": 79,
   "metadata": {},
   "outputs": [
    {
     "name": "stdout",
     "output_type": "stream",
     "text": [
      "Regresión Logística (sin regularización)\n",
      "Accuracy: 0.8540816326530613\n",
      "Balanced Accuracy: 0.6241568881086575\n",
      "Tiempo de entrenamiento: 0.18188714981079102\n"
     ]
    }
   ],
   "source": [
    "start_time = time.time()    # comenzamos el tiempo\n",
    "\n",
    "SinL1 = create_pipeline_2(StandardScaler(), SimpleImputer(strategy='mean'), LogisticRegression(penalty=None, solver='lbfgs')) \n",
    "# \"solver='lbfgs'\" es un algoritmo de optimización que es compatible con la configuración penalty=None\n",
    "SinL1.fit(X_train, y_train)    # Entrenamos\n",
    "\n",
    "end_time = time.time()  # Paramos el timepo\n",
    "\n",
    "# Calculamos métricas\n",
    "\n",
    "y_pred_lr = SinL1.predict(X_test)\n",
    "lr_acc = accuracy_score(y_test, y_pred_lr)\n",
    "lr_bal_acc = balanced_accuracy_score(y_test, y_pred_lr)\n",
    "\n",
    "print(\"Regresión Logística (sin regularización)\")\n",
    "print(\"Accuracy:\", lr_acc)\n",
    "print(\"Balanced Accuracy:\", lr_bal_acc)\n",
    "print(\"Tiempo de entrenamiento:\", end_time - start_time)"
   ]
  },
  {
   "cell_type": "markdown",
   "metadata": {},
   "source": [
    "Con regulación L1:"
   ]
  },
  {
   "cell_type": "code",
   "execution_count": 80,
   "metadata": {},
   "outputs": [
    {
     "name": "stdout",
     "output_type": "stream",
     "text": [
      "Regresión Logística (con L1)\n",
      "Accuracy: 0.8561224489795919\n",
      "Balanced Accuracy: 0.6228171486648804\n",
      "Tiempo de entrenamiento: 0.07012104988098145\n"
     ]
    }
   ],
   "source": [
    "start_time = time.time()\n",
    "\n",
    "ConL1 = create_pipeline_2(StandardScaler(), SimpleImputer(strategy='mean'), LogisticRegression(penalty='l1', solver='liblinear')) \n",
    "ConL1.fit(X_train, y_train) # Entrenamos\n",
    "\n",
    "end_time = time.time()\n",
    "\n",
    "# Calculmos métricas\n",
    "\n",
    "y_pred_ConL1 = ConL1.predict(X_test)\n",
    "ConL1_acc = accuracy_score(y_test, y_pred_ConL1)\n",
    "COnL1_bal_acc = balanced_accuracy_score(y_test, y_pred_ConL1)\n",
    "\n",
    "print(\"Regresión Logística (con L1)\")\n",
    "print(\"Accuracy:\", ConL1_acc)\n",
    "print(\"Balanced Accuracy:\", COnL1_bal_acc)\n",
    "print(\"Tiempo de entrenamiento:\", end_time - start_time)"
   ]
  },
  {
   "cell_type": "markdown",
   "metadata": {},
   "source": [
    "SVM con hiperparámetros por omisión:"
   ]
  },
  {
   "cell_type": "code",
   "execution_count": 81,
   "metadata": {},
   "outputs": [
    {
     "name": "stdout",
     "output_type": "stream",
     "text": [
      "SVM (parámetros por defecto)\n",
      "Accuracy: 0.8775510204081632\n",
      "Balanced Accuracy: 0.6330345868366749\n",
      "Tiempo de entrenamiento: 0.14657306671142578\n"
     ]
    }
   ],
   "source": [
    "start_time = time.time()\n",
    "svc = create_pipeline_2(StandardScaler(), SimpleImputer(strategy='mean'), SVC())\n",
    "svc.fit(X_train, y_train)\n",
    "\n",
    "end_time = time.time()\n",
    "\n",
    "y_pred_svm = svc.predict(X_test)\n",
    "svm_acc = accuracy_score(y_test, y_pred_svm)\n",
    "svm_bal_acc = balanced_accuracy_score(y_test, y_pred_svm)\n",
    "\n",
    "print(\"SVM (parámetros por defecto)\")\n",
    "print(\"Accuracy:\", svm_acc)\n",
    "print(\"Balanced Accuracy:\", svm_bal_acc)\n",
    "print(\"Tiempo de entrenamiento:\", end_time - start_time)\n"
   ]
  },
  {
   "cell_type": "markdown",
   "metadata": {},
   "source": [
    "---\n",
    "Optimizacion de hiperparámetros con gridsearch:"
   ]
  },
  {
   "cell_type": "markdown",
   "metadata": {},
   "source": [
    "Primero sin penalizacion L1:"
   ]
  },
  {
   "cell_type": "code",
   "execution_count": 82,
   "metadata": {},
   "outputs": [
    {
     "name": "stdout",
     "output_type": "stream",
     "text": [
      "Fitting 5 folds for each of 6 candidates, totalling 30 fits\n",
      "True Positive Rate:  0.2848101265822785\n",
      "True Negative Rate:  0.9635036496350365\n",
      "Mejores hiperparámetros (Sin penalización): {'classifier': LogisticRegression(max_iter=1000), 'classifier__penalty': None, 'classifier__solver': 'lbfgs', 'preprocessor__num__imputer': SimpleImputer(strategy='median'), 'preprocessor__num__scaler': StandardScaler()}\n",
      "Tiempo de entrenamiento (Sin penalización): 0.8023 segundos\n"
     ]
    }
   ],
   "source": [
    "param_grid_sin_penalizacion = {\n",
    "    'preprocessor__num__imputer': [SimpleImputer(strategy='mean'), SimpleImputer(strategy='median')],\n",
    "    'preprocessor__num__scaler': [StandardScaler(), MinMaxScaler(), RobustScaler()],\n",
    "    'classifier': [LogisticRegression(max_iter=1000)],\n",
    "    'classifier__penalty': [None],\n",
    "    'classifier__solver': ['lbfgs'],\n",
    "\n",
    "}\n",
    "\n",
    "grid_search_sin_penalizacion = GridSearchCV(\n",
    "    create_pipeline_2(StandardScaler(), SimpleImputer(strategy='mean'), LogisticRegression(max_iter=1000)), \n",
    "    param_grid_sin_penalizacion,\n",
    "    scoring='balanced_accuracy',\n",
    "    n_jobs=-1,\n",
    "    verbose=1\n",
    ")\n",
    "\n",
    "start_time = time.time()\n",
    "grid_search_sin_penalizacion.fit(X_train, y_train)\n",
    "end_time = time.time()\n",
    "\n",
    "y_pred_lr = grid_search_sin_penalizacion.predict(X_test)\n",
    "\n",
    "matrizConfusion = confusion_matrix(y_test, y_pred_lr)\n",
    "\n",
    "TPR = matrizConfusion[1, 1] / (matrizConfusion[1, 0] + matrizConfusion[1, 1])  \n",
    "TNR = matrizConfusion[0, 0] / (matrizConfusion[0, 0] + matrizConfusion[0, 1])\n",
    "\n",
    "print(\"True Positive Rate: \", TPR)\n",
    "print(\"True Negative Rate: \", TNR)\n",
    "\n",
    "print(f\"Mejores hiperparámetros (Sin penalización): {grid_search_sin_penalizacion.best_params_}\")\n",
    "print(f\"Tiempo de entrenamiento (Sin penalización): {end_time - start_time:.4f} segundos\")\n"
   ]
  },
  {
   "cell_type": "markdown",
   "metadata": {},
   "source": [
    "Con penalizacion L1:"
   ]
  },
  {
   "cell_type": "code",
   "execution_count": 83,
   "metadata": {},
   "outputs": [
    {
     "name": "stdout",
     "output_type": "stream",
     "text": [
      "Fitting 5 folds for each of 18 candidates, totalling 90 fits\n",
      "True Positive Rate:  0.2848101265822785\n",
      "True Negative Rate:  0.9647201946472019\n",
      "Mejores hiperparámetros (Penalización L1): {'classifier': LogisticRegression(max_iter=1000), 'classifier__C': 10, 'classifier__penalty': 'l1', 'classifier__solver': 'liblinear', 'preprocessor__num__imputer': SimpleImputer(), 'preprocessor__num__scaler': StandardScaler()}\n",
      "Tiempo de entrenamiento (Penalización L1): 3.1179 segundos\n"
     ]
    }
   ],
   "source": [
    "param_grid_con_penalizacion_L1 = {\n",
    "    'preprocessor__num__imputer': [SimpleImputer(strategy='mean'), SimpleImputer(strategy='median')],\n",
    "    'preprocessor__num__scaler': [StandardScaler(), MinMaxScaler(), RobustScaler()],\n",
    "    'classifier': [LogisticRegression(max_iter=1000)],\n",
    "    'classifier__penalty': ['l1'], \n",
    "    'classifier__solver': ['liblinear'], \n",
    "    'classifier__C': [0.1, 1, 10],\n",
    "}\n",
    "grid_search_con_penalizacion_L1 = GridSearchCV(\n",
    "    create_pipeline_2(StandardScaler(), SimpleImputer(strategy='mean'), LogisticRegression(max_iter=1000)),\n",
    "    param_grid_con_penalizacion_L1,\n",
    "    scoring='balanced_accuracy',\n",
    "    n_jobs=-1,\n",
    "    verbose=1\n",
    ")\n",
    "\n",
    "start_time = time.time()\n",
    "grid_search_con_penalizacion_L1.fit(X_train, y_train)\n",
    "end_time = time.time()\n",
    "\n",
    "y_pred_lr = grid_search_con_penalizacion_L1.predict(X_test)\n",
    "\n",
    "matrizConfusion = confusion_matrix(y_test, y_pred_lr)\n",
    "\n",
    "TPR = matrizConfusion[1, 1] / (matrizConfusion[1, 0] + matrizConfusion[1, 1])  \n",
    "TNR = matrizConfusion[0, 0] / (matrizConfusion[0, 0] + matrizConfusion[0, 1])\n",
    "\n",
    "print(\"True Positive Rate: \", TPR)\n",
    "print(\"True Negative Rate: \", TNR)\n",
    "\n",
    "print(f\"Mejores hiperparámetros (Penalización L1): {grid_search_con_penalizacion_L1.best_params_}\")\n",
    "print(f\"Tiempo de entrenamiento (Penalización L1): {end_time - start_time:.4f} segundos\")"
   ]
  },
  {
   "cell_type": "markdown",
   "metadata": {},
   "source": [
    "Para el SVC será algo distinto, ya que el paramgrid cambia (no se trata de regresión linear esta vez)\n",
    "\n",
    "Para ésta funcion del param_grid_svc he utilizado IA generativa ChatGPT, obteniendo más opciones como el kernel, gamma, o function shape"
   ]
  },
  {
   "cell_type": "code",
   "execution_count": 84,
   "metadata": {},
   "outputs": [
    {
     "name": "stdout",
     "output_type": "stream",
     "text": [
      "Fitting 5 folds for each of 216 candidates, totalling 1080 fits\n",
      "True Positive Rate:  0.7784810126582279\n",
      "True Negative Rate:  0.962287104622871\n",
      "Mejores hiperparámetros (Con SVC): {'classifier': SVC(), 'classifier__C': 10, 'classifier__decision_function_shape': 'ovo', 'classifier__gamma': 'scale', 'classifier__kernel': 'poly', 'preprocessor__num__imputer': SimpleImputer(strategy='median'), 'preprocessor__num__scaler': MinMaxScaler()}\n",
      "Tiempo de búsqueda de hiperparámetros: 85.80741143226624\n"
     ]
    }
   ],
   "source": [
    "param_grid_svc = {\n",
    "    'preprocessor__num__imputer': [SimpleImputer(strategy='mean'), SimpleImputer(strategy='median')],\n",
    "    'preprocessor__num__scaler': [StandardScaler(), MinMaxScaler(), RobustScaler()],\n",
    "    'classifier': [SVC()],\n",
    "    'classifier__C': [0.1, 1, 10],\n",
    "    'classifier__kernel': ['linear', 'rbf', 'poly'],  # Diferentes tipos de kernel\n",
    "    'classifier__gamma': ['scale', 'auto'],  # Gamma, afecta el ajuste del modelo (sólo si kernel = rbf o poly)\n",
    "    'classifier__decision_function_shape': ['ovo', 'ovr'],  # Forma de la función de decisión\n",
    "}\n",
    "\n",
    "grid_search_svc = GridSearchCV(\n",
    "    create_pipeline_2(StandardScaler(), SimpleImputer(strategy=\"mean\"), SVC()), \n",
    "    param_grid_svc,\n",
    "    scoring='balanced_accuracy',\n",
    "    n_jobs=-1,\n",
    "    verbose=1\n",
    ")\n",
    "\n",
    "start_time = time.time()\n",
    "grid_search_svc.fit(X_train, y_train)\n",
    "end_time = time.time()\n",
    "\n",
    "y_pred_lr = grid_search_svc.predict(X_test)\n",
    "\n",
    "matrizConfusion = confusion_matrix(y_test, y_pred_lr)\n",
    "\n",
    "TPR = matrizConfusion[1, 1] / (matrizConfusion[1, 0] + matrizConfusion[1, 1])  \n",
    "TNR = matrizConfusion[0, 0] / (matrizConfusion[0, 0] + matrizConfusion[0, 1])\n",
    "\n",
    "print(\"True Positive Rate: \", TPR)\n",
    "print(\"True Negative Rate: \", TNR)\n",
    "\n",
    "print(\"Mejores hiperparámetros (Con SVC):\", grid_search_svc.best_params_)\n",
    "print(\"Tiempo de búsqueda de hiperparámetros:\", end_time - start_time)"
   ]
  },
  {
   "cell_type": "markdown",
   "metadata": {},
   "source": [
    "Evaluamos los mejores hiperparámetros:"
   ]
  },
  {
   "cell_type": "code",
   "execution_count": 85,
   "metadata": {},
   "outputs": [
    {
     "name": "stdout",
     "output_type": "stream",
     "text": [
      "Resultados para la regresión logística (sin L1):\n",
      "Accuracy: 0.8540816326530613\n",
      "Balanced Accuracy: 0.6241568881086575\n",
      "\n",
      "Resultados para la regresión logística (con L1):\n",
      "Accuracy: 0.8551020408163266\n",
      "Balanced Accuracy: 0.6247651606147402\n",
      "\n",
      "SVM (con hiperparámetros optimizados):\n",
      "Accuracy: 0.9326530612244898\n",
      "Balanced Accuracy: 0.8703840586405495\n"
     ]
    }
   ],
   "source": [
    "# Para un modelo como la regresión logística con L1 sin penalización\n",
    "best_model_sin_L1 = grid_search_sin_penalizacion.best_estimator_\n",
    "y_pred_lr_sin_L1 = best_model_sin_L1.predict(X_test)\n",
    "\n",
    "# Para el modelo con L1\n",
    "best_model_con_L1 = grid_search_con_penalizacion_L1.best_estimator_\n",
    "y_pred_lr_con_L1 = best_model_con_L1.predict(X_test)\n",
    "\n",
    "# Para el modelo SVM optimizado\n",
    "best_model_svc = grid_search_svc.best_estimator_\n",
    "y_pred_svm = best_model_svc.predict(X_test)\n",
    "\n",
    "# Evaluamos todos los modelos\n",
    "lr_acc_sin_L1 = accuracy_score(y_test, y_pred_lr_sin_L1)\n",
    "lr_bal_acc_sin_L1 = balanced_accuracy_score(y_test, y_pred_lr_sin_L1)\n",
    "\n",
    "lr_acc_con_L1 = accuracy_score(y_test, y_pred_lr_con_L1)\n",
    "lr_bal_acc_con_L1 = balanced_accuracy_score(y_test, y_pred_lr_con_L1)\n",
    "\n",
    "svm_acc = accuracy_score(y_test, y_pred_svm)\n",
    "svm_bal_acc = balanced_accuracy_score(y_test, y_pred_svm)\n",
    "\n",
    "print(\"Resultados para la regresión logística (sin L1):\")\n",
    "print(\"Accuracy:\", lr_acc_sin_L1)\n",
    "print(\"Balanced Accuracy:\", lr_bal_acc_sin_L1)\n",
    "\n",
    "print(\"\\nResultados para la regresión logística (con L1):\")\n",
    "print(\"Accuracy:\", lr_acc_con_L1)\n",
    "print(\"Balanced Accuracy:\", lr_bal_acc_con_L1)\n",
    "\n",
    "print(\"\\nSVM (con hiperparámetros optimizados):\")\n",
    "print(\"Accuracy:\", svm_acc)\n",
    "print(\"Balanced Accuracy:\", svm_bal_acc)"
   ]
  },
  {
   "cell_type": "markdown",
   "metadata": {},
   "source": [
    "### ANALISIS\n",
    "1.  Podemos observar que por medio del modelo SVM obtenemos un balanced accuracy del 0.87, muy superior a los resultados por regresión logística que obtienen un 0.62\n",
    "\n",
    "2.  Los modelos de regresión logística son muy similares entre aquel con restricción L1 y aquel sin ella, con una diferencia del 0.0006. Se vé más claramente la aportación de la restricción L1 en el TPR y el TNR de ambos, que poseen mas variación entre ellas."
   ]
  },
  {
   "cell_type": "markdown",
   "metadata": {},
   "source": [
    "Generamos nuestro PKL, que guardamos previamente"
   ]
  },
  {
   "cell_type": "code",
   "execution_count": 86,
   "metadata": {},
   "outputs": [],
   "source": [
    "with open('modelo_final.pkl', 'wb') as file:\n",
    "    pickle.dump(ElMejorModeloKNN, file)"
   ]
  }
 ],
 "metadata": {
  "colab": {
   "provenance": []
  },
  "kernelspec": {
   "display_name": ".venv",
   "language": "python",
   "name": "python3"
  },
  "language_info": {
   "codemirror_mode": {
    "name": "ipython",
    "version": 3
   },
   "file_extension": ".py",
   "mimetype": "text/x-python",
   "name": "python",
   "nbconvert_exporter": "python",
   "pygments_lexer": "ipython3",
   "version": "3.12.3"
  }
 },
 "nbformat": 4,
 "nbformat_minor": 0
}
